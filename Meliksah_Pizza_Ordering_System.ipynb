{
  "nbformat": 4,
  "nbformat_minor": 0,
  "metadata": {
    "colab": {
      "provenance": [],
      "authorship_tag": "ABX9TyPA6UmKHAmWYtzHMZLLtFFd",
      "include_colab_link": true
    },
    "kernelspec": {
      "name": "python3",
      "display_name": "Python 3"
    },
    "language_info": {
      "name": "python"
    }
  },
  "cells": [
    {
      "cell_type": "markdown",
      "metadata": {
        "id": "view-in-github",
        "colab_type": "text"
      },
      "source": [
        "<a href=\"https://colab.research.google.com/github/mkey7/A_Pizza_Ordering_System/blob/main/Meliksah_Pizza_Ordering_System.ipynb\" target=\"_parent\"><img src=\"https://colab.research.google.com/assets/colab-badge.svg\" alt=\"Open In Colab\"/></a>"
      ]
    },
    {
      "cell_type": "code",
      "source": [
        "# Pizza Ordering System\n",
        "\n",
        "# Gerekli kitaplıkları import ediyoruz:\n",
        "import csv\n",
        "import datetime\n",
        "\n",
        "# “Menu.txt” dosyasını oluşturduk\n",
        "with open(\"Menu.txt\", \"w\") as f:\n",
        "    f.write(\"* Lütfen Bir Pizza Tabanı Seçiniz:\\n\")\n",
        "    f.write(\"1: Klasik\\n\")\n",
        "    f.write(\"2: Margarita\\n\")\n",
        "    f.write(\"3: TürkPizza\\n\")\n",
        "    f.write(\"4: Sade Pizza\\n\")\n",
        "    f.write(\"* ve seçeceğiniz sos:\\n\")\n",
        "    f.write(\"11: Zeytin\\n\")\n",
        "    f.write(\"12: Mantarlar\\n\")\n",
        "    f.write(\"13: Keçi Peyniri\\n\")\n",
        "    f.write(\"14: Et\\n\")\n",
        "    f.write(\"15: Soğan\\n\")\n",
        "    f.write(\"16: Mısır\\n\")\n",
        "    f.write(\"*Teşekkür ederiz!\")"
      ],
      "metadata": {
        "id": "4MjTREv9xKMp"
      },
      "execution_count": 17,
      "outputs": []
    },
    {
      "cell_type": "code",
      "source": [
        "\n",
        "def add_methods(cls):\n",
        "    \"\"\"A class decorator that adds two methods to a class.\"\"\"\n",
        "    def get_cost(self):\n",
        "        return self.cost\n",
        "\n",
        "    def get_description(self):\n",
        "        return self.description\n",
        "\n",
        "    # Add the methods to the class\n",
        "    cls.get_cost = get_cost\n",
        "    cls.get_description = get_description\n",
        "\n",
        "    # Return the modified class\n",
        "    return cls\n",
        "\n",
        "@add_methods\n",
        "class Pizza:\n",
        "    def __init__(self, description, cost):\n",
        "        self.description = description\n",
        "        self.cost = cost\n",
        "\n",
        "# Create an instance of the class and call the new methods\n",
        "KlasikPizza = Pizza('Karışık Pizza', 25)\n",
        "Margarita = Pizza('Only Mozerella', 15)\n",
        "TürkPizza = Pizza('Lahmacun', 20)\n",
        "DominosPizza = Pizza('Bol Malzemos', 30)\n",
        "print(KlasikPizza.get_description())  # Output: Karışık Pizza\n",
        "print(KlasikPizza.get_cost())  # Output: 25"
      ],
      "metadata": {
        "colab": {
          "base_uri": "https://localhost:8080/"
        },
        "id": "QzVe84wtxL7l",
        "outputId": "54ed403e-dcd1-4d03-e326-73c843a37f47"
      },
      "execution_count": 18,
      "outputs": [
        {
          "output_type": "stream",
          "name": "stdout",
          "text": [
            "Karışık Pizza\n",
            "25\n"
          ]
        }
      ]
    },
    {
      "cell_type": "code",
      "source": [
        "@add_methods\n",
        "class Sos:\n",
        "  def __init__(self, description, cost):\n",
        "    self.description = description\n",
        "    self.cost = cost\n",
        "    Zeytin = Sos('Balıkesir Zeytini', 2.0)\n",
        "    Mantar = Sos('Kültür Mantarı', 1.5)\n",
        "    Keçi_Peyniri = Sos('Erzincan Keçi Peyniri', 2.0)\n",
        "    Et = Sos('Kuzu Eti', 2.5)\n",
        "    Soğan = Sos('Anadolu Soğanı', 1.0)\n",
        "    Mısır = Sos('Süt Mısırı', 1.0)"
      ],
      "metadata": {
        "id": "66lATvohxMUE"
      },
      "execution_count": 19,
      "outputs": []
    },
    {
      "cell_type": "code",
      "source": [
        "import csv\n",
        "import datetime\n",
        "from datetime import datetime\n",
        "\n",
        "# Menu.txt dosyasından menü öğelerini oku\n",
        "with open(\"Menu.txt\", \"r\") as f:\n",
        "    menu_items = f.readlines()\n",
        "\n",
        "# Menü öğelerini ekrana yazdır\n",
        "print(\"Hoşgeldiniz! Lütfen bir pizza ve sos seçin.\")\n",
        "for item in menu_items:\n",
        "    print(item.strip())\n",
        "\n",
        "# Kullanıcıdan pizza ve sos seçimlerini al\n",
        "pizza_choice = input(\"Pizza seçimi (1-4): \")\n",
        "while pizza_choice not in ['1', '2', '3', '4']:\n",
        "    pizza_choice = input(\"Lütfen geçerli bir pizza seçimi yapın (1-4): \")\n",
        "\n",
        "sos_choice = input(\"Sos seçimi (11-16): \")\n",
        "while sos_choice not in ['11', '12', '13', '14', '15', '16']:\n",
        "    sos_choice = input(\"Lütfen geçerli bir sos seçimi yapın (11-16): \")\n",
        "\n",
        "# Seçimlere göre fiyat hesapla\n",
        "pizza_prices = {'1': 20, '2': 25, '3': 30, '4': 15}\n",
        "sos_prices = {'11': 2.0, '12': 1.5, '13': 2.0, '14': 2.5, '15': 1.0, '16': 1.0}\n",
        "total_price = pizza_prices[pizza_choice] + sos_prices[sos_choice]\n",
        "\n",
        "# Kullanıcı bilgilerini al \n",
        "name = input(\"İsim: \")\n",
        "tc_no = input(\"TC Kimlik Numarası: \")\n",
        "credit_card_no = input(\"Kredi Kartı Numarası: \")\n",
        "credit_card_pin = input(\"Kredi Kartı Şifresi: \")\n",
        "\n",
        "# Sipariş bilgilerini Orders_Database.csv dosyasına yaz\n",
        "\n",
        "now = datetime.now()\n",
        "    \n",
        "current_time = now.strftime(\"%d/%m/%Y %H:%M:%S\")\n",
        "\n",
        "# Define variable titles\n",
        "fieldnames = ['Name', 'ID Number', 'Credit Card Number', 'Pizza Choice', 'Sos Choice', 'Total Price', 'Order Time', 'Credit Card Password']\n",
        "\n",
        "# Write order details to CSV file\n",
        "with open('Order_Database.csv', mode='a', newline='') as file:\n",
        "    writer = csv.DictWriter(file, fieldnames=fieldnames)\n",
        "    if file.tell() == 0:\n",
        "        writer.writeheader() # Write fieldnames as the first row if the file is empty\n",
        "    writer.writerow({'Name': name, 'ID Number': tc_no, 'Credit Card Number': credit_card_no, \n",
        "                      'Pizza Choice': pizza_choice, 'Sos Choice': sos_choice, 'Total Price': total_price,\n",
        "                      'Order Time': current_time, 'Credit Card Password': credit_card_pin})\n",
        "\n",
        "# Sipariş özetini ekrana yazdır\n",
        "print(\"Sipariş özeti:\")\n",
        "print(f\"Pizza: {menu_items[int(pizza_choice)]}\")\n",
        "print(f\"Sos: {menu_items[int(sos_choice)]}\")\n",
        "print(f\"Toplam Fiyat: {total_price} TL\")\n",
        "print(f\"İsim: {name}\")\n",
        "print(f\"TC Kimlik Numarası: {tc_no}\")\n",
        "print(f\"Kredi Kartı Numarası: {credit_card_no}\")\n",
        "print(\"Sipariş alındı. Teşekkür ederiz!\")\n"
      ],
      "metadata": {
        "colab": {
          "base_uri": "https://localhost:8080/"
        },
        "id": "fchJkNYvgBrq",
        "outputId": "edef087c-614e-4a1f-8966-6ea7d7a3bfb4"
      },
      "execution_count": 20,
      "outputs": [
        {
          "output_type": "stream",
          "name": "stdout",
          "text": [
            "Hoşgeldiniz! Lütfen bir pizza ve sos seçin.\n",
            "* Lütfen Bir Pizza Tabanı Seçiniz:\n",
            "1: Klasik\n",
            "2: Margarita\n",
            "3: TürkPizza\n",
            "4: Sade Pizza\n",
            "* ve seçeceğiniz sos:\n",
            "11: Zeytin\n",
            "12: Mantarlar\n",
            "13: Keçi Peyniri\n",
            "14: Et\n",
            "15: Soğan\n",
            "16: Mısır\n",
            "*Teşekkür ederiz!\n",
            "Pizza seçimi (1-4): \n",
            "Lütfen geçerli bir pizza seçimi yapın (1-4): 1\n",
            "Sos seçimi (11-16): 12\n",
            "İsim: Mk\n",
            "TC Kimlik Numarası: 454534\n",
            "Kredi Kartı Numarası: 5233 4242 3232 3244\n",
            "Kredi Kartı Şifresi: 12345\n",
            "Sipariş özeti:\n",
            "Pizza: 1: Klasik\n",
            "\n",
            "Sos: *Teşekkür ederiz!\n",
            "Toplam Fiyat: 21.5 TL\n",
            "İsim: Mk\n",
            "TC Kimlik Numarası: 454534\n",
            "Kredi Kartı Numarası: 5233 4242 3232 3244\n",
            "Sipariş alındı. Teşekkür ederiz!\n"
          ]
        }
      ]
    }
  ]
}